{
 "cells": [
  {
   "cell_type": "code",
   "execution_count": 6,
   "metadata": {
    "collapsed": true
   },
   "outputs": [],
   "source": [
    "import pandas as pd\n",
    "import numpy as np\n",
    "import matplotlib.pyplot as plt"
   ]
  },
  {
   "cell_type": "code",
   "execution_count": 7,
   "metadata": {
    "collapsed": false
   },
   "outputs": [],
   "source": [
    "path=\"C:/Users/Artem/Documents/goto hack/\"\n",
    "dfout = pd.read_excel(path + \"qiwi_users_money_out_data.xlsx\")\n",
    "dfin = pd.read_excel(path + \"qiwi_users_money_in_data.xlsx\")\n",
    "dfu = pd.read_excel(path + \"qiwi_users_profile_data.xlsx\")"
   ]
  },
  {
   "cell_type": "code",
   "execution_count": 8,
   "metadata": {
    "collapsed": true
   },
   "outputs": [],
   "source": [
    "dfout['type']='outcome'"
   ]
  },
  {
   "cell_type": "code",
   "execution_count": 9,
   "metadata": {
    "collapsed": true
   },
   "outputs": [],
   "source": [
    "dfin['type']='income'"
   ]
  },
  {
   "cell_type": "code",
   "execution_count": 10,
   "metadata": {
    "collapsed": false
   },
   "outputs": [],
   "source": [
    "dfinout=pd.concat([dfin,dfout])"
   ]
  },
  {
   "cell_type": "code",
   "execution_count": 13,
   "metadata": {
    "collapsed": false
   },
   "outputs": [],
   "source": [
    "df=pd.merge(dfinout,dfu,on='user_id')"
   ]
  },
  {
   "cell_type": "code",
   "execution_count": 99,
   "metadata": {
    "collapsed": false
   },
   "outputs": [],
   "source": [
    "df=df.fillna('Нет')\n",
    "dfu=dfu.fillna('Нет')"
   ]
  },
  {
   "cell_type": "code",
   "execution_count": 19,
   "metadata": {
    "collapsed": true
   },
   "outputs": [],
   "source": [
    "df.to_csv('all_data.csv',index=None,sep=';')"
   ]
  },
  {
   "cell_type": "code",
   "execution_count": 28,
   "metadata": {
    "collapsed": false
   },
   "outputs": [],
   "source": [
    "df['tran_year'] = df.date_month.str.split('-').str.get(0).astype(int)\n",
    "df['tran_month'] = df.date_month.str.split('-').str.get(1).astype(int)\n",
    "df['graduated_ago'] = df['tran_year'] - df['graduation_year']\n"
   ]
  },
  {
   "cell_type": "code",
   "execution_count": 29,
   "metadata": {
    "collapsed": false,
    "scrolled": false
   },
   "outputs": [
    {
     "data": {
      "text/html": [
       "<div>\n",
       "<table border=\"1\" class=\"dataframe\">\n",
       "  <thead>\n",
       "    <tr style=\"text-align: right;\">\n",
       "      <th></th>\n",
       "      <th>category</th>\n",
       "      <th>date_month</th>\n",
       "      <th>txn_count</th>\n",
       "      <th>payment</th>\n",
       "      <th>user_id</th>\n",
       "      <th>type</th>\n",
       "      <th>sex</th>\n",
       "      <th>university</th>\n",
       "      <th>faculty</th>\n",
       "      <th>graduation_year</th>\n",
       "      <th>tran_year</th>\n",
       "      <th>tran_month</th>\n",
       "      <th>graduated_ago</th>\n",
       "    </tr>\n",
       "  </thead>\n",
       "  <tbody>\n",
       "    <tr>\n",
       "      <th>0</th>\n",
       "      <td>QIWI</td>\n",
       "      <td>2014-02</td>\n",
       "      <td>1</td>\n",
       "      <td>70</td>\n",
       "      <td>2</td>\n",
       "      <td>income</td>\n",
       "      <td>Муж</td>\n",
       "      <td>ТвГТУ</td>\n",
       "      <td>Управления и социальных коммуникаций (Гуманита...</td>\n",
       "      <td>2016</td>\n",
       "      <td>2014</td>\n",
       "      <td>2</td>\n",
       "      <td>-2</td>\n",
       "    </tr>\n",
       "    <tr>\n",
       "      <th>1</th>\n",
       "      <td>QIWI</td>\n",
       "      <td>2016-03</td>\n",
       "      <td>1</td>\n",
       "      <td>200</td>\n",
       "      <td>2</td>\n",
       "      <td>income</td>\n",
       "      <td>Муж</td>\n",
       "      <td>ТвГТУ</td>\n",
       "      <td>Управления и социальных коммуникаций (Гуманита...</td>\n",
       "      <td>2016</td>\n",
       "      <td>2016</td>\n",
       "      <td>3</td>\n",
       "      <td>0</td>\n",
       "    </tr>\n",
       "    <tr>\n",
       "      <th>2</th>\n",
       "      <td>QIWI</td>\n",
       "      <td>2016-07</td>\n",
       "      <td>2</td>\n",
       "      <td>1700</td>\n",
       "      <td>2</td>\n",
       "      <td>income</td>\n",
       "      <td>Муж</td>\n",
       "      <td>ТвГТУ</td>\n",
       "      <td>Управления и социальных коммуникаций (Гуманита...</td>\n",
       "      <td>2016</td>\n",
       "      <td>2016</td>\n",
       "      <td>7</td>\n",
       "      <td>0</td>\n",
       "    </tr>\n",
       "    <tr>\n",
       "      <th>3</th>\n",
       "      <td>Банки</td>\n",
       "      <td>2014-01</td>\n",
       "      <td>1</td>\n",
       "      <td>50</td>\n",
       "      <td>2</td>\n",
       "      <td>income</td>\n",
       "      <td>Муж</td>\n",
       "      <td>ТвГТУ</td>\n",
       "      <td>Управления и социальных коммуникаций (Гуманита...</td>\n",
       "      <td>2016</td>\n",
       "      <td>2014</td>\n",
       "      <td>1</td>\n",
       "      <td>-2</td>\n",
       "    </tr>\n",
       "    <tr>\n",
       "      <th>4</th>\n",
       "      <td>Банки</td>\n",
       "      <td>2014-03</td>\n",
       "      <td>1</td>\n",
       "      <td>700</td>\n",
       "      <td>2</td>\n",
       "      <td>income</td>\n",
       "      <td>Муж</td>\n",
       "      <td>ТвГТУ</td>\n",
       "      <td>Управления и социальных коммуникаций (Гуманита...</td>\n",
       "      <td>2016</td>\n",
       "      <td>2014</td>\n",
       "      <td>3</td>\n",
       "      <td>-2</td>\n",
       "    </tr>\n",
       "  </tbody>\n",
       "</table>\n",
       "</div>"
      ],
      "text/plain": [
       "  category date_month  txn_count  payment  user_id    type  sex university  \\\n",
       "0     QIWI    2014-02          1       70        2  income  Муж      ТвГТУ   \n",
       "1     QIWI    2016-03          1      200        2  income  Муж      ТвГТУ   \n",
       "2     QIWI    2016-07          2     1700        2  income  Муж      ТвГТУ   \n",
       "3    Банки    2014-01          1       50        2  income  Муж      ТвГТУ   \n",
       "4    Банки    2014-03          1      700        2  income  Муж      ТвГТУ   \n",
       "\n",
       "                                             faculty  graduation_year  \\\n",
       "0  Управления и социальных коммуникаций (Гуманита...             2016   \n",
       "1  Управления и социальных коммуникаций (Гуманита...             2016   \n",
       "2  Управления и социальных коммуникаций (Гуманита...             2016   \n",
       "3  Управления и социальных коммуникаций (Гуманита...             2016   \n",
       "4  Управления и социальных коммуникаций (Гуманита...             2016   \n",
       "\n",
       "   tran_year  tran_month  graduated_ago  \n",
       "0       2014           2             -2  \n",
       "1       2016           3              0  \n",
       "2       2016           7              0  \n",
       "3       2014           1             -2  \n",
       "4       2014           3             -2  "
      ]
     },
     "execution_count": 29,
     "metadata": {},
     "output_type": "execute_result"
    }
   ],
   "source": [
    "df.head(5)"
   ]
  },
  {
   "cell_type": "code",
   "execution_count": 34,
   "metadata": {
    "collapsed": false
   },
   "outputs": [
    {
     "name": "stderr",
     "output_type": "stream",
     "text": [
      "C:\\Users\\Artem\\Anaconda3\\lib\\site-packages\\ipykernel\\__main__.py:2: UserWarning: Boolean Series key will be reindexed to match DataFrame index.\n",
      "  from ipykernel import kernelapp as app\n",
      "C:\\Users\\Artem\\Anaconda3\\lib\\site-packages\\ipykernel\\__main__.py:5: UserWarning: Boolean Series key will be reindexed to match DataFrame index.\n"
     ]
    },
    {
     "data": {
      "image/png": "[encoded data removed]",
      "text/plain": [
       "<matplotlib.figure.Figure at 0x1727a34e8d0>"
      ]
     },
     "metadata": {},
     "output_type": "display_data"
    }
   ],
   "source": [
    "\n",
    "sub_ser1 = df[df['graduated_ago']==-2][df['type']=='outcome'].payment\n",
    "#print(sum(sub_ser)/len(sub_ser))\n",
    "#print(np.std(sub_ser))\n",
    "sub_ser2 = df[df['graduated_ago']==2][df['type']=='outcome'].payment\n",
    "plt.hist(sub_ser2,30,range=[0,10000],alpha=0.5,normed=True,color='Black')\n",
    "plt.hist(sub_ser1,30,range=[0,10000],alpha=0.5,normed=True,color='Red')\n",
    "plt.show()\n"
   ]
  },
  {
   "cell_type": "code",
   "execution_count": 35,
   "metadata": {
    "collapsed": false
   },
   "outputs": [],
   "source": [
    "#sub_df.iloc[1,0]\n",
    "def get_row(sub_df):\n",
    "    small_dic={}\n",
    "    for i in range(len(sub_df)):\n",
    "        category = sub_df.iloc[i][0]\n",
    "        if category in small_dic:\n",
    "            small_dic[category] = small_dic[category] +  sub_df.iloc[i][3]#3 means payment\n",
    "        else:\n",
    "            small_dic[category] = sub_df.iloc[i][3]\n",
    "        \n",
    "    return small_dic"
   ]
  },
  {
   "cell_type": "code",
   "execution_count": 83,
   "metadata": {
    "collapsed": false
   },
   "outputs": [
    {
     "name": "stdout",
     "output_type": "stream",
     "text": [
      "1000\n",
      "2000\n",
      "3000\n",
      "4000\n",
      "5000\n",
      "6000\n",
      "7000\n",
      "8000\n",
      "9000\n",
      "10000\n",
      "11000\n",
      "12000\n",
      "13000\n",
      "14000\n",
      "15000\n"
     ]
    }
   ],
   "source": [
    "big_dic = {}\n",
    "for i in range(1,15113+1):\n",
    "    if i%1000==0:\n",
    "        print(i)\n",
    "    for graduated_ago in [-2,-1,0,1,2,3,4]:\n",
    "        str_key=str(i) +\"_\"+ str(graduated_ago)\n",
    "        \n",
    "        small_dic= get_row(df[(df['user_id']==i)&(df['graduated_ago']==graduated_ago)])\n",
    "        small_dic['graduated_ago'] = graduated_ago\n",
    "        small_dic['user_id'] = i\n",
    "        big_dic[str_key] = small_dic"
   ]
  },
  {
   "cell_type": "code",
   "execution_count": 84,
   "metadata": {
    "collapsed": false
   },
   "outputs": [
    {
     "data": {
      "text/html": [
       "<div>\n",
       "<table border=\"1\" class=\"dataframe\">\n",
       "  <thead>\n",
       "    <tr style=\"text-align: right;\">\n",
       "      <th></th>\n",
       "      <th>IP-телефония</th>\n",
       "      <th>MCMS</th>\n",
       "      <th>MLM</th>\n",
       "      <th>QIWI</th>\n",
       "      <th>QIWI Казахстан</th>\n",
       "      <th>QVC</th>\n",
       "      <th>QVP</th>\n",
       "      <th>QVV</th>\n",
       "      <th>Sim-карты для туристов</th>\n",
       "      <th>VPP</th>\n",
       "      <th>...</th>\n",
       "      <th>Страхование</th>\n",
       "      <th>Такси</th>\n",
       "      <th>Телевидение</th>\n",
       "      <th>Терминалы и отделения партнеров QIWI</th>\n",
       "      <th>Транспортные карты</th>\n",
       "      <th>Туристический продукт</th>\n",
       "      <th>Файлообмен</th>\n",
       "      <th>Форекс</th>\n",
       "      <th>Хостинг</th>\n",
       "      <th>Электронные деньги</th>\n",
       "    </tr>\n",
       "  </thead>\n",
       "  <tbody>\n",
       "    <tr>\n",
       "      <th>10000_-1</th>\n",
       "      <td>0.0</td>\n",
       "      <td>0.0</td>\n",
       "      <td>0.0</td>\n",
       "      <td>0.0</td>\n",
       "      <td>0.0</td>\n",
       "      <td>0.0</td>\n",
       "      <td>0.0</td>\n",
       "      <td>0.0</td>\n",
       "      <td>0.0</td>\n",
       "      <td>0.0</td>\n",
       "      <td>...</td>\n",
       "      <td>0.0</td>\n",
       "      <td>0.0</td>\n",
       "      <td>0.0</td>\n",
       "      <td>0.0</td>\n",
       "      <td>0.0</td>\n",
       "      <td>0.0</td>\n",
       "      <td>0.0</td>\n",
       "      <td>0.0</td>\n",
       "      <td>0.0</td>\n",
       "      <td>0.0</td>\n",
       "    </tr>\n",
       "    <tr>\n",
       "      <th>10000_-2</th>\n",
       "      <td>0.0</td>\n",
       "      <td>0.0</td>\n",
       "      <td>0.0</td>\n",
       "      <td>0.0</td>\n",
       "      <td>0.0</td>\n",
       "      <td>0.0</td>\n",
       "      <td>0.0</td>\n",
       "      <td>0.0</td>\n",
       "      <td>0.0</td>\n",
       "      <td>0.0</td>\n",
       "      <td>...</td>\n",
       "      <td>0.0</td>\n",
       "      <td>0.0</td>\n",
       "      <td>0.0</td>\n",
       "      <td>0.0</td>\n",
       "      <td>0.0</td>\n",
       "      <td>0.0</td>\n",
       "      <td>0.0</td>\n",
       "      <td>0.0</td>\n",
       "      <td>0.0</td>\n",
       "      <td>0.0</td>\n",
       "    </tr>\n",
       "    <tr>\n",
       "      <th>10000_0</th>\n",
       "      <td>0.0</td>\n",
       "      <td>0.0</td>\n",
       "      <td>0.0</td>\n",
       "      <td>0.0</td>\n",
       "      <td>0.0</td>\n",
       "      <td>0.0</td>\n",
       "      <td>0.0</td>\n",
       "      <td>0.0</td>\n",
       "      <td>0.0</td>\n",
       "      <td>0.0</td>\n",
       "      <td>...</td>\n",
       "      <td>0.0</td>\n",
       "      <td>0.0</td>\n",
       "      <td>0.0</td>\n",
       "      <td>0.0</td>\n",
       "      <td>0.0</td>\n",
       "      <td>0.0</td>\n",
       "      <td>0.0</td>\n",
       "      <td>0.0</td>\n",
       "      <td>0.0</td>\n",
       "      <td>0.0</td>\n",
       "    </tr>\n",
       "    <tr>\n",
       "      <th>10000_1</th>\n",
       "      <td>0.0</td>\n",
       "      <td>0.0</td>\n",
       "      <td>0.0</td>\n",
       "      <td>0.0</td>\n",
       "      <td>0.0</td>\n",
       "      <td>0.0</td>\n",
       "      <td>0.0</td>\n",
       "      <td>0.0</td>\n",
       "      <td>0.0</td>\n",
       "      <td>0.0</td>\n",
       "      <td>...</td>\n",
       "      <td>0.0</td>\n",
       "      <td>0.0</td>\n",
       "      <td>0.0</td>\n",
       "      <td>0.0</td>\n",
       "      <td>0.0</td>\n",
       "      <td>0.0</td>\n",
       "      <td>0.0</td>\n",
       "      <td>0.0</td>\n",
       "      <td>0.0</td>\n",
       "      <td>0.0</td>\n",
       "    </tr>\n",
       "    <tr>\n",
       "      <th>10000_2</th>\n",
       "      <td>0.0</td>\n",
       "      <td>0.0</td>\n",
       "      <td>0.0</td>\n",
       "      <td>0.0</td>\n",
       "      <td>0.0</td>\n",
       "      <td>0.0</td>\n",
       "      <td>0.0</td>\n",
       "      <td>0.0</td>\n",
       "      <td>0.0</td>\n",
       "      <td>0.0</td>\n",
       "      <td>...</td>\n",
       "      <td>0.0</td>\n",
       "      <td>0.0</td>\n",
       "      <td>0.0</td>\n",
       "      <td>0.0</td>\n",
       "      <td>0.0</td>\n",
       "      <td>0.0</td>\n",
       "      <td>0.0</td>\n",
       "      <td>0.0</td>\n",
       "      <td>0.0</td>\n",
       "      <td>0.0</td>\n",
       "    </tr>\n",
       "  </tbody>\n",
       "</table>\n",
       "<p>5 rows × 65 columns</p>\n",
       "</div>"
      ],
      "text/plain": [
       "          IP-телефония  MCMS  MLM  QIWI  QIWI Казахстан  QVC  QVP  QVV  \\\n",
       "10000_-1           0.0   0.0  0.0   0.0             0.0  0.0  0.0  0.0   \n",
       "10000_-2           0.0   0.0  0.0   0.0             0.0  0.0  0.0  0.0   \n",
       "10000_0            0.0   0.0  0.0   0.0             0.0  0.0  0.0  0.0   \n",
       "10000_1            0.0   0.0  0.0   0.0             0.0  0.0  0.0  0.0   \n",
       "10000_2            0.0   0.0  0.0   0.0             0.0  0.0  0.0  0.0   \n",
       "\n",
       "          Sim-карты для туристов  VPP         ...          Страхование  Такси  \\\n",
       "10000_-1                     0.0  0.0         ...                  0.0    0.0   \n",
       "10000_-2                     0.0  0.0         ...                  0.0    0.0   \n",
       "10000_0                      0.0  0.0         ...                  0.0    0.0   \n",
       "10000_1                      0.0  0.0         ...                  0.0    0.0   \n",
       "10000_2                      0.0  0.0         ...                  0.0    0.0   \n",
       "\n",
       "          Телевидение  Терминалы и отделения партнеров QIWI  \\\n",
       "10000_-1          0.0                                   0.0   \n",
       "10000_-2          0.0                                   0.0   \n",
       "10000_0           0.0                                   0.0   \n",
       "10000_1           0.0                                   0.0   \n",
       "10000_2           0.0                                   0.0   \n",
       "\n",
       "          Транспортные карты  Туристический продукт  Файлообмен  Форекс  \\\n",
       "10000_-1                 0.0                    0.0         0.0     0.0   \n",
       "10000_-2                 0.0                    0.0         0.0     0.0   \n",
       "10000_0                  0.0                    0.0         0.0     0.0   \n",
       "10000_1                  0.0                    0.0         0.0     0.0   \n",
       "10000_2                  0.0                    0.0         0.0     0.0   \n",
       "\n",
       "          Хостинг  Электронные деньги  \n",
       "10000_-1      0.0                 0.0  \n",
       "10000_-2      0.0                 0.0  \n",
       "10000_0       0.0                 0.0  \n",
       "10000_1       0.0                 0.0  \n",
       "10000_2       0.0                 0.0  \n",
       "\n",
       "[5 rows x 65 columns]"
      ]
     },
     "execution_count": 84,
     "metadata": {},
     "output_type": "execute_result"
    }
   ],
   "source": [
    "df_rost = pd.DataFrame.from_dict(big_dic)\n",
    "df_rost=df_rost.fillna(0)\n",
    "df_rost=df_rost.transpose()\n",
    "df_rost.head()"
   ]
  },
  {
   "cell_type": "code",
   "execution_count": 101,
   "metadata": {
    "collapsed": false
   },
   "outputs": [
    {
     "data": {
      "text/html": [
       "<div>\n",
       "<table border=\"1\" class=\"dataframe\">\n",
       "  <thead>\n",
       "    <tr style=\"text-align: right;\">\n",
       "      <th></th>\n",
       "      <th>user_id</th>\n",
       "      <th>sex</th>\n",
       "      <th>university</th>\n",
       "      <th>faculty</th>\n",
       "      <th>graduation_year</th>\n",
       "    </tr>\n",
       "  </thead>\n",
       "  <tbody>\n",
       "    <tr>\n",
       "      <th>0</th>\n",
       "      <td>1</td>\n",
       "      <td>Муж</td>\n",
       "      <td>ТвГТУ</td>\n",
       "      <td>Дополнительного профессионального образования</td>\n",
       "      <td>2016</td>\n",
       "    </tr>\n",
       "    <tr>\n",
       "      <th>1</th>\n",
       "      <td>2</td>\n",
       "      <td>Муж</td>\n",
       "      <td>ТвГТУ</td>\n",
       "      <td>Управления и социальных коммуникаций (Гуманита...</td>\n",
       "      <td>2016</td>\n",
       "    </tr>\n",
       "    <tr>\n",
       "      <th>2</th>\n",
       "      <td>3</td>\n",
       "      <td>Нет</td>\n",
       "      <td>МГУ</td>\n",
       "      <td>Глобальных процессов</td>\n",
       "      <td>2017</td>\n",
       "    </tr>\n",
       "    <tr>\n",
       "      <th>3</th>\n",
       "      <td>4</td>\n",
       "      <td>Нет</td>\n",
       "      <td>ЧелГУ</td>\n",
       "      <td>Управления</td>\n",
       "      <td>2018</td>\n",
       "    </tr>\n",
       "    <tr>\n",
       "      <th>4</th>\n",
       "      <td>5</td>\n",
       "      <td>Нет</td>\n",
       "      <td>ЮУрГУ</td>\n",
       "      <td>Факультет экономики и управления (до 2016 г.)</td>\n",
       "      <td>2015</td>\n",
       "    </tr>\n",
       "  </tbody>\n",
       "</table>\n",
       "</div>"
      ],
      "text/plain": [
       "   user_id  sex university                                            faculty  \\\n",
       "0        1  Муж      ТвГТУ      Дополнительного профессионального образования   \n",
       "1        2  Муж      ТвГТУ  Управления и социальных коммуникаций (Гуманита...   \n",
       "2        3  Нет        МГУ                               Глобальных процессов   \n",
       "3        4  Нет      ЧелГУ                                         Управления   \n",
       "4        5  Нет      ЮУрГУ      Факультет экономики и управления (до 2016 г.)   \n",
       "\n",
       "   graduation_year  \n",
       "0             2016  \n",
       "1             2016  \n",
       "2             2017  \n",
       "3             2018  \n",
       "4             2015  "
      ]
     },
     "execution_count": 101,
     "metadata": {},
     "output_type": "execute_result"
    }
   ],
   "source": [
    "df_rost[df_rost]"
   ]
  },
  {
   "cell_type": "code",
   "execution_count": 54,
   "metadata": {
    "collapsed": false
   },
   "outputs": [
    {
     "data": {
      "text/plain": [
       "pandas.core.frame.DataFrame"
      ]
     },
     "execution_count": 54,
     "metadata": {},
     "output_type": "execute_result"
    }
   ],
   "source": [
    "df[df['graduated_ago']==-2]\n",
    "type(df)"
   ]
  },
  {
   "cell_type": "code",
   "execution_count": 85,
   "metadata": {
    "collapsed": true
   },
   "outputs": [],
   "source": [
    "df_rost.to_csv('NEW_data.csv',index=None,sep=';')"
   ]
  },
  {
   "cell_type": "code",
   "execution_count": null,
   "metadata": {
    "collapsed": true
   },
   "outputs": [],
   "source": [
    "\n",
    "def typ_stud(df)"
   ]
  },
  {
   "cell_type": "code",
   "execution_count": 103,
   "metadata": {
    "collapsed": false
   },
   "outputs": [
    {
     "data": {
      "text/plain": [
       "array(['IP-телефония', 'MCMS', 'MLM', 'QIWI', 'QIWI Казахстан', 'QVC',\n",
       "       'QVP', 'QVV', 'Sim-карты для туристов', 'VPP', 'graduated_ago',\n",
       "       'user_id', 'Абонентское обслуживание', 'Авиабилеты',\n",
       "       'Агрегатор платежей', 'Банки', 'Билеты в кино', 'Билеты на зрелища',\n",
       "       'Благотворительность', 'Бронирование гостиниц', 'Букмекеры',\n",
       "       'Возвраты или корректировки платежей',\n",
       "       'Выплаты по рекламным акциям', 'Госуслуги',\n",
       "       'Грузоперевозки и доставка', 'Денежные переводы', 'Ж/Д билеты',\n",
       "       'ЖКУ', 'Игры со ставками', 'Интернет', 'Интернет магазины',\n",
       "       'Информационные услуги', 'Коллекторские агентства', 'Контент',\n",
       "       'Кредиты и займы на кошелек', 'Купоны', 'Кэшбэк МегаФон', 'Лотереи',\n",
       "       'Международная/междугородняя связь', 'Местная связь',\n",
       "       'Мобильная коммерция', 'Образовательные услуги', 'Онлайн игры',\n",
       "       'Онлайн общение', 'Оплата подписки', 'Остальное',\n",
       "       'Охранные системы',\n",
       "       'Переводы без открытия счета по свободным реквизитам',\n",
       "       'Погашение кредитов', 'Предоставление займов',\n",
       "       'Регистрация доменов', 'Ритуальные услуги', 'Служебная',\n",
       "       'Создание и дизайн сайтов, трафик', 'Сотовая связь', 'Страхование',\n",
       "       'Такси', 'Телевидение', 'Терминалы и отделения партнеров QIWI',\n",
       "       'Транспортные карты', 'Туристический продукт', 'Файлообмен',\n",
       "       'Форекс', 'Хостинг', 'Электронные деньги'], dtype=object)"
      ]
     },
     "execution_count": 103,
     "metadata": {},
     "output_type": "execute_result"
    }
   ],
   "source": [
    "df_rost.columns.values"
   ]
  }
 ],
 "metadata": {
  "anaconda-cloud": {},
  "kernelspec": {
   "display_name": "Python [conda root]",
   "language": "python",
   "name": "conda-root-py"
  },
  "language_info": {
   "codemirror_mode": {
    "name": "ipython",
    "version": 3
   },
   "file_extension": ".py",
   "mimetype": "text/x-python",
   "name": "python",
   "nbconvert_exporter": "python",
   "pygments_lexer": "ipython3",
   "version": "3.5.2"
  }
 },
 "nbformat": 4,
 "nbformat_minor": 1
}
